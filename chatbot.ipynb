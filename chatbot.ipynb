{
 "cells": [
  {
   "cell_type": "code",
   "execution_count": 8,
   "id": "354d6826-3a57-40c6-9ffa-c481763942eb",
   "metadata": {},
   "outputs": [
    {
     "name": "stdout",
     "output_type": "stream",
     "text": [
      "Welcome to the simple chatbot!\n",
      "Type something. Type 'help' for commands. Type 'bye' or 'exit' to leave.\n"
     ]
    },
    {
     "name": "stdin",
     "output_type": "stream",
     "text": [
      "You:  hello\n"
     ]
    },
    {
     "name": "stdout",
     "output_type": "stream",
     "text": [
      "Bot: Assalamualaikum! I am a simple chatbot. How can I help you?\n"
     ]
    },
    {
     "name": "stdin",
     "output_type": "stream",
     "text": [
      "You:  how are you\n"
     ]
    },
    {
     "name": "stdout",
     "output_type": "stream",
     "text": [
      "Bot: I am fine, thank you. And you?\n"
     ]
    },
    {
     "name": "stdin",
     "output_type": "stream",
     "text": [
      "You:  i am fine\n"
     ]
    },
    {
     "name": "stdout",
     "output_type": "stream",
     "text": [
      "Bot: Good to hear! What do you want to do next?\n"
     ]
    },
    {
     "name": "stdin",
     "output_type": "stream",
     "text": [
      "You:  time\n"
     ]
    },
    {
     "name": "stdout",
     "output_type": "stream",
     "text": [
      "Bot: Current time is 16:31:39\n"
     ]
    },
    {
     "name": "stdin",
     "output_type": "stream",
     "text": [
      "You:  save\n"
     ]
    },
    {
     "name": "stdout",
     "output_type": "stream",
     "text": [
      "Chat saved to chat_log.txt\n"
     ]
    },
    {
     "name": "stdin",
     "output_type": "stream",
     "text": [
      "You:  bye\n"
     ]
    },
    {
     "name": "stdout",
     "output_type": "stream",
     "text": [
      "Bot: Goodbye! Have a nice day.\n",
      "Chat saved to chat_log_before_exit.txt\n"
     ]
    }
   ],
   "source": [
    "# chatbot.py\n",
    "# Simple rule-based chatbot for Youth Tech Link Task 4\n",
    "# Very easy English comments\n",
    "\n",
    "from datetime import datetime\n",
    "\n",
    "# Save chat to text file\n",
    "def save_chat(history, filename=\"chat_log.txt\"):\n",
    "    \"\"\"Write chat history (list of lines) to filename.\"\"\"\n",
    "    with open(filename, \"w\", encoding=\"utf-8\") as f:\n",
    "        for line in history:\n",
    "            f.write(line + \"\\n\")\n",
    "    print(f\"Chat saved to {filename}\")\n",
    "\n",
    "# Get bot response for user text\n",
    "def get_response(text):\n",
    "    text = text.strip().lower()\n",
    "\n",
    "    # greetings\n",
    "    if text in (\"hello\", \"hi\", \"hey\", \"assalam\", \"salam\"):\n",
    "        return \"Assalamualaikum! I am a simple chatbot. How can I help you?\"\n",
    "\n",
    "    # how are you\n",
    "    if \"how are you\" in text or \"how r you\" in text:\n",
    "        return \"I am fine, thank you. And you?\"\n",
    "\n",
    "    # user says they are fine\n",
    "    if text in (\"i am fine\", \"im fine\", \"fine\", \"good\"):\n",
    "        return \"Good to hear! What do you want to do next?\"\n",
    "\n",
    "    # ask name\n",
    "    if \"your name\" in text or \"who are you\" in text:\n",
    "        return \"My name is ChatBot. This was made by Mohammad Hasnain.\"\n",
    "\n",
    "    # time\n",
    "    if \"time\" in text:\n",
    "        now = datetime.now().strftime(\"%H:%M:%S\")\n",
    "        return \"Current time is \" + now\n",
    "\n",
    "    # date\n",
    "    if \"date\" in text or \"today\" in text:\n",
    "        today = datetime.now().strftime(\"%Y-%m-%d\")\n",
    "        return \"Today's date is \" + today\n",
    "\n",
    "    # help\n",
    "    if \"help\" in text or \"what can you do\" in text:\n",
    "        return (\"I can say hello, tell time and date, save chat, and say goodbye.\\n\"\n",
    "                \"Commands: help, save, time, date, bye\")\n",
    "\n",
    "    # fallback for unknown input\n",
    "    return \"Sorry, I do not understand. Type 'help' to see what I can do.\"\n",
    "\n",
    "# --- Main program ---\n",
    "def main():\n",
    "    print(\"Welcome to the simple chatbot!\")\n",
    "    print(\"Type something. Type 'help' for commands. Type 'bye' or 'exit' to leave.\")\n",
    "    history = []  # save conversation lines\n",
    "\n",
    "    while True:\n",
    "        user = input(\"You: \").strip()\n",
    "        if not user:\n",
    "            print(\"Bot: Please type something.\")\n",
    "            continue\n",
    "\n",
    "        # Save user line in history\n",
    "        history.append(\"You: \" + user)\n",
    "\n",
    "        low = user.lower().strip()\n",
    "\n",
    "        # Save command\n",
    "        if low == \"save\":\n",
    "            save_chat(history)\n",
    "            continue\n",
    "\n",
    "        # Exit command\n",
    "        if low in (\"bye\", \"exit\", \"goodbye\", \"khuda hafiz\"):\n",
    "            bot = \"Goodbye! Have a nice day.\"\n",
    "            print(\"Bot:\", bot)\n",
    "            history.append(\"Bot: \" + bot)\n",
    "            # Save automatically before exit (optional)\n",
    "            save_chat(history, filename=\"chat_log_before_exit.txt\")\n",
    "            break\n",
    "\n",
    "        # Normal response\n",
    "        bot = get_response(user)\n",
    "        print(\"Bot:\", bot)\n",
    "        history.append(\"Bot: \" + bot)\n",
    "\n",
    "if __name__ == \"__main__\":\n",
    "    main()"
   ]
  },
  {
   "cell_type": "code",
   "execution_count": null,
   "id": "46c2d290-47d6-407d-a724-69372375693d",
   "metadata": {},
   "outputs": [],
   "source": []
  }
 ],
 "metadata": {
  "kernelspec": {
   "display_name": "Python [conda env:base] *",
   "language": "python",
   "name": "conda-base-py"
  },
  "language_info": {
   "codemirror_mode": {
    "name": "ipython",
    "version": 3
   },
   "file_extension": ".py",
   "mimetype": "text/x-python",
   "name": "python",
   "nbconvert_exporter": "python",
   "pygments_lexer": "ipython3",
   "version": "3.12.7"
  }
 },
 "nbformat": 4,
 "nbformat_minor": 5
}
