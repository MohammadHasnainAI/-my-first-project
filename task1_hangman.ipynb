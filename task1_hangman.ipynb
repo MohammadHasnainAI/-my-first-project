{
 "cells": [
  {
   "cell_type": "code",
   "execution_count": 6,
   "id": "e1a1cfbf-39d8-444f-a448-e847a2cb0a64",
   "metadata": {},
   "outputs": [
    {
     "name": "stdout",
     "output_type": "stream",
     "text": [
      "Welcome to Hangman!\n",
      "You have 6 wrong guesses allowed.\n",
      "Guess letters to find the secret word.\n",
      "Words length: 6\n",
      "\n",
      "Word: _ _ _ _ _ _\n",
      "Guessed letters: None\n"
     ]
    },
    {
     "name": "stdin",
     "output_type": "stream",
     "text": [
      "Enter a letter (or try whole word):  s\n"
     ]
    },
    {
     "name": "stdout",
     "output_type": "stream",
     "text": [
      "Sorry, s is not in the word.\n",
      "Lives left: 5 \n",
      "\n",
      "Word: _ _ _ _ _ _\n",
      "Guessed letters: s\n"
     ]
    },
    {
     "name": "stdin",
     "output_type": "stream",
     "text": [
      "Enter a letter (or try whole word):  p\n"
     ]
    },
    {
     "name": "stdout",
     "output_type": "stream",
     "text": [
      "Sorry, p is not in the word.\n",
      "Lives left: 4 \n",
      "\n",
      "Word: _ _ _ _ _ _\n",
      "Guessed letters: p s\n"
     ]
    },
    {
     "name": "stdin",
     "output_type": "stream",
     "text": [
      "Enter a letter (or try whole word):  b\n"
     ]
    },
    {
     "name": "stdout",
     "output_type": "stream",
     "text": [
      "Sorry, b is not in the word.\n",
      "Lives left: 3 \n",
      "\n",
      "Word: _ _ _ _ _ _\n",
      "Guessed letters: b p s\n"
     ]
    },
    {
     "name": "stdin",
     "output_type": "stream",
     "text": [
      "Enter a letter (or try whole word):  g\n"
     ]
    },
    {
     "name": "stdout",
     "output_type": "stream",
     "text": [
      "Good! The letter g is in the word.\n",
      "\n",
      "Word: g _ _ _ _ _\n",
      "Guessed letters: b g p s\n"
     ]
    },
    {
     "name": "stdin",
     "output_type": "stream",
     "text": [
      "Enter a letter (or try whole word):  u\n"
     ]
    },
    {
     "name": "stdout",
     "output_type": "stream",
     "text": [
      "Good! The letter u is in the word.\n",
      "\n",
      "Word: g u _ _ _ _\n",
      "Guessed letters: b g p s u\n"
     ]
    },
    {
     "name": "stdin",
     "output_type": "stream",
     "text": [
      "Enter a letter (or try whole word):  i\n"
     ]
    },
    {
     "name": "stdout",
     "output_type": "stream",
     "text": [
      "Good! The letter i is in the word.\n",
      "\n",
      "Word: g u i _ _ _\n",
      "Guessed letters: b g i p s u\n"
     ]
    },
    {
     "name": "stdin",
     "output_type": "stream",
     "text": [
      "Enter a letter (or try whole word):  t\n"
     ]
    },
    {
     "name": "stdout",
     "output_type": "stream",
     "text": [
      "Good! The letter t is in the word.\n",
      "\n",
      "Word: g u i t _ _\n",
      "Guessed letters: b g i p s t u\n"
     ]
    },
    {
     "name": "stdin",
     "output_type": "stream",
     "text": [
      "Enter a letter (or try whole word):  a\n"
     ]
    },
    {
     "name": "stdout",
     "output_type": "stream",
     "text": [
      "Good! The letter a is in the word.\n",
      "\n",
      "Word: g u i t a _\n",
      "Guessed letters: a b g i p s t u\n"
     ]
    },
    {
     "name": "stdin",
     "output_type": "stream",
     "text": [
      "Enter a letter (or try whole word):  r\n"
     ]
    },
    {
     "name": "stdout",
     "output_type": "stream",
     "text": [
      "Good! The letter r is in the word.\n",
      "\n",
      "Word: g u i t a r\n",
      "Congratulations — you found the word: guitar\n",
      "You win! 🎉\n"
     ]
    }
   ],
   "source": [
    "# hangman.py\n",
    "# Task 1 – Hangman Game for Youth Tech Internship\n",
    "# 5 predefined words, 6 wrong guesses allowed\n",
    "\n",
    "import random\n",
    "\n",
    "# Step 1: Fixed list of 5 words\n",
    "words = [\"python\", \"banana\", \"guitar\", \"orange\", \"school\"]\n",
    "\n",
    "# Step 2: Pick one word randomly\n",
    "secret = random.choice(words)\n",
    "secret = secret.lower()\n",
    "\n",
    "# Step 3: Game variables\n",
    "lives = 6                      # allowed incorrect guesses\n",
    "guessed_letters = set()        # all guessed letters\n",
    "\n",
    "# Step 4: Function to show current progress\n",
    "def show_progress():\n",
    "    display = []\n",
    "    for ch in secret:\n",
    "        if ch in guessed_letters:\n",
    "            display.append(ch)\n",
    "        else:\n",
    "            display.append(\"_\")\n",
    "    return \" \".join(display)\n",
    "\n",
    "# Step 5: Start game\n",
    "print(\"Welcome to Hangman!\")\n",
    "print(\"You have\", lives, \"wrong guesses allowed.\")\n",
    "print(\"Guess letters to find the secret word.\")\n",
    "print(\"Words length:\", len(secret))\n",
    "print()\n",
    "\n",
    "# Step 6: Game loop\n",
    "while True:\n",
    "    print(\"Word:\", show_progress())\n",
    "    print(\"Guessed letters:\", \" \".join(sorted(guessed_letters)) if guessed_letters else \"None\")\n",
    "    guess = input(\"Enter a letter (or try whole word): \").strip().lower()\n",
    "\n",
    "    # No input\n",
    "    if not guess:\n",
    "        print(\"Please type something.\\n\")\n",
    "        continue\n",
    "\n",
    "    # Whole word guess\n",
    "    if len(guess) > 1:\n",
    "        if guess == secret:\n",
    "            print(\"\\nCorrect! You guessed the whole word:\", secret)\n",
    "            print(\"You win! 🎉\")\n",
    "            break\n",
    "        else:\n",
    "            lives -= 1\n",
    "            print(\"Wrong whole-word guess. Lives left:\", lives, \"\\n\")\n",
    "            if lives == 0:\n",
    "                print(\"No lives left. You lose. The word was:\", secret)\n",
    "                break\n",
    "            continue\n",
    "\n",
    "    # Single letter guess\n",
    "    letter = guess[0]\n",
    "    if not letter.isalpha():\n",
    "        print(\"Please enter a letter (a-z).\\n\")\n",
    "        continue\n",
    "\n",
    "    if letter in guessed_letters:\n",
    "        print(\"You already guessed\", letter, \"\\n\")\n",
    "        continue\n",
    "\n",
    "    guessed_letters.add(letter)\n",
    "\n",
    "    if letter in secret:\n",
    "        print(\"Good! The letter\", letter, \"is in the word.\\n\")\n",
    "        # Check if all letters are guessed\n",
    "        if all(ch in guessed_letters for ch in secret):\n",
    "            print(\"Word:\", show_progress())\n",
    "            print(\"Congratulations — you found the word:\", secret)\n",
    "            print(\"You win! 🎉\")\n",
    "            break\n",
    "    else:\n",
    "        lives -= 1\n",
    "        print(\"Sorry,\", letter, \"is not in the word.\")\n",
    "        print(\"Lives left:\", lives, \"\\n\")\n",
    "        if lives == 0:\n",
    "            print(\"You have 0 lives left. You lose.\")\n",
    "            print(\"The secret word was:\", secret)\n",
    "            break\n"
   ]
  },
  {
   "cell_type": "code",
   "execution_count": null,
   "id": "e9c0a18b-a208-46b7-8668-ea48310f2493",
   "metadata": {},
   "outputs": [],
   "source": []
  }
 ],
 "metadata": {
  "kernelspec": {
   "display_name": "Python [conda env:base] *",
   "language": "python",
   "name": "conda-base-py"
  },
  "language_info": {
   "codemirror_mode": {
    "name": "ipython",
    "version": 3
   },
   "file_extension": ".py",
   "mimetype": "text/x-python",
   "name": "python",
   "nbconvert_exporter": "python",
   "pygments_lexer": "ipython3",
   "version": "3.12.7"
  }
 },
 "nbformat": 4,
 "nbformat_minor": 5
}
