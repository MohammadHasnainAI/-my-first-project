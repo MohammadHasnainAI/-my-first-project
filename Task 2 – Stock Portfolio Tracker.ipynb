{
 "cells": [
  {
   "cell_type": "code",
   "execution_count": 7,
   "id": "ca2e85e2-437a-41ec-ac90-18afdc97cca1",
   "metadata": {},
   "outputs": [
    {
     "name": "stdin",
     "output_type": "stream",
     "text": [
      "How many different stocks do you want to enter?  3\n",
      "Enter stock name #1 (like Apple):  Apple\n",
      "How many shares of Apple?  4\n",
      "Enter stock name #2 (like Apple):  Tesla\n",
      "How many shares of Tesla?  2\n",
      "Enter stock name #3 (like Apple):  Amazon\n",
      "How many shares of Amazon?  5\n"
     ]
    },
    {
     "name": "stdout",
     "output_type": "stream",
     "text": [
      "Apple: 4 shares × $170 = $680\n",
      "Tesla: 2 shares × $250 = $500\n",
      "Amazon: 5 shares × $140 = $700\n",
      "\n",
      "Total Investment: $1880\n",
      "\n",
      "Data saved to 'portfolio.txt'\n"
     ]
    }
   ],
   "source": [
    "# Step 1: Fixed stock prices using dictionary\n",
    "stock_prices = {\n",
    "    \"Apple\": 170,\n",
    "    \"Google\": 130,\n",
    "    \"Tesla\": 250,\n",
    "    \"Amazon\": 140,\n",
    "    \"Microsoft\": 300\n",
    "}\n",
    "\n",
    "# Step 2: Ask user how many different stocks they want to enter\n",
    "num_stocks = int(input(\"How many different stocks do you want to enter? \"))\n",
    "\n",
    "# Step 3: Make a dictionary to store user inputs\n",
    "user_portfolio = {}\n",
    "\n",
    "# Step 4: Get stock name and quantity from user\n",
    "# Use .title() to fix case (like 'apple' to 'Apple')\n",
    "for i in range(num_stocks):\n",
    "    stock = input(f\"Enter stock name #{i+1} (like Apple): \").title()\n",
    "    quantity = int(input(f\"How many shares of {stock}? \"))\n",
    "    user_portfolio[stock] = quantity\n",
    "\n",
    "# Step 5: Calculate total investment\n",
    "total_value = 0\n",
    "for stock, qty in user_portfolio.items():\n",
    "    if stock in stock_prices:\n",
    "        price = stock_prices[stock]\n",
    "        value = price * qty\n",
    "        print(f\"{stock}: {qty} shares × ${price} = ${value}\")\n",
    "        total_value += value\n",
    "    else:\n",
    "        print(f\"Sorry, price for {stock} not found.\")\n",
    "\n",
    "# Step 6: Show total investment\n",
    "print(f\"\\nTotal Investment: ${total_value}\")\n",
    "\n",
    "# Step 7: Save to text file\n",
    "with open(\"portfolio.txt\", \"w\") as file:\n",
    "    for stock, qty in user_portfolio.items():\n",
    "        if stock in stock_prices:\n",
    "            price = stock_prices[stock]\n",
    "            value = price * qty\n",
    "            file.write(f\"{stock}: {qty} × ${price} = ${value}\\n\")\n",
    "    file.write(f\"\\nTotal Investment: ${total_value}\")\n",
    "\n",
    "print(\"\\nData saved to 'portfolio.txt'\")\n"
   ]
  },
  {
   "cell_type": "code",
   "execution_count": null,
   "id": "cb4da5b4-0240-46b1-b884-a9afff3ef32c",
   "metadata": {},
   "outputs": [],
   "source": []
  }
 ],
 "metadata": {
  "kernelspec": {
   "display_name": "Python [conda env:base] *",
   "language": "python",
   "name": "conda-base-py"
  },
  "language_info": {
   "codemirror_mode": {
    "name": "ipython",
    "version": 3
   },
   "file_extension": ".py",
   "mimetype": "text/x-python",
   "name": "python",
   "nbconvert_exporter": "python",
   "pygments_lexer": "ipython3",
   "version": "3.12.7"
  }
 },
 "nbformat": 4,
 "nbformat_minor": 5
}
